{
 "cells": [
  {
   "cell_type": "markdown",
   "metadata": {
    "id": "Nx8bJ0yVgImD"
   },
   "source": [
    "## Lab 2"
   ]
  },
  {
   "cell_type": "markdown",
   "metadata": {
    "id": "_U5jyVPugImI"
   },
   "source": [
    "### Part 3. Poetry generation\n",
    "\n",
    "Let's try to generate some poetry using RNNs. \n",
    "\n",
    "You have several choices here: \n",
    "\n",
    "* The Shakespeare sonnets, file `sonnets.txt` available in the notebook directory.\n",
    "\n",
    "* Роман в стихах \"Евгений Онегин\" Александра Сергеевича Пушкина. В предобработанном виде доступен по [ссылке](https://github.com/attatrol/data_sources/blob/master/onegin.txt).\n",
    "\n",
    "* Some other text source, if it will be approved by the course staff.\n",
    "\n",
    "Text generation can be designed in several steps:\n",
    "    \n",
    "1. Data loading.\n",
    "2. Dictionary generation.\n",
    "3. Data preprocessing.\n",
    "4. Model (neural network) training.\n",
    "5. Text generation (model evaluation).\n"
   ]
  },
  {
   "cell_type": "code",
   "execution_count": 1,
   "metadata": {
    "id": "Y_BsOFUjgImI"
   },
   "outputs": [],
   "source": [
    "import string\n",
    "import os\n",
    "import torch, torch.nn as nn\n",
    "import torch.nn.functional as F\n",
    "import numpy as np\n",
    "from matplotlib import pyplot as plt"
   ]
  },
  {
   "cell_type": "markdown",
   "metadata": {
    "id": "sK5IJZ2dgImJ"
   },
   "source": [
    "### Data loading: Shakespeare"
   ]
  },
  {
   "cell_type": "markdown",
   "metadata": {
    "id": "-PJSr-HMgImJ"
   },
   "source": [
    "Shakespeare sonnets are awailable at this [link](http://www.gutenberg.org/ebooks/1041?msg=welcome_stranger). In addition, they are stored in the same directory as this notebook (`sonnetes.txt`). Simple preprocessing is already done for you in the next cell: all technical info is dropped."
   ]
  },
  {
   "cell_type": "code",
   "execution_count": 2,
   "metadata": {
    "colab": {
     "base_uri": "https://localhost:8080/"
    },
    "id": "1m6VZDJ4gImJ",
    "outputId": "1072b02e-e956-477d-e097-61052228ea44"
   },
   "outputs": [],
   "source": [
    "if not os.path.exists('sonnets.txt'):\n",
    "    !wget https://raw.githubusercontent.com/girafe-ai/ml-mipt/master/homeworks_basic/Lab2_DL/sonnets.txt\n",
    "\n",
    "with open('sonnets.txt', 'r') as iofile:\n",
    "    text = iofile.readlines()\n",
    "    \n",
    "TEXT_START = 45\n",
    "TEXT_END = -368\n",
    "text = text[TEXT_START : TEXT_END]\n",
    "assert len(text) == 2616"
   ]
  },
  {
   "cell_type": "markdown",
   "metadata": {
    "id": "shReZNbygImK"
   },
   "source": [
    "In opposite to the in-class practice, this time we want to predict complex text. Let's reduce the complexity of the task and lowercase all the symbols.\n",
    "\n",
    "Now variable `text` is a list of strings. Join all the strings into one and lowercase it."
   ]
  },
  {
   "cell_type": "code",
   "execution_count": 3,
   "metadata": {
    "colab": {
     "base_uri": "https://localhost:8080/"
    },
    "id": "YsZgHX4UgImK",
    "outputId": "cdbdc3c4-cc2e-46a2-b228-1556a83acd75"
   },
   "outputs": [
    {
     "name": "stdout",
     "output_type": "stream",
     "text": [
      "OK!\n"
     ]
    }
   ],
   "source": [
    "# Join all the strings into one and lowercase it\n",
    "# Put result into variable text.\n",
    "lines = text\n",
    "text = \"\".join([line.lower() for line in text])\n",
    "\n",
    "# Your great code here\n",
    "\n",
    "assert len(text) == 100225, 'Are you sure you have concatenated all the strings?'\n",
    "assert not any([x in set(text) for x in string.ascii_uppercase]), 'Uppercase letters are present'\n",
    "print('OK!')"
   ]
  },
  {
   "cell_type": "markdown",
   "metadata": {
    "id": "4e4WtNIjgImK"
   },
   "source": [
    "### Data loading: \"Евгений Онегин\"\n"
   ]
  },
  {
   "cell_type": "code",
   "execution_count": 16,
   "metadata": {
    "id": "Rofb2cezgImL",
    "outputId": "d5d7e2fb-0013-4461-a1fe-1784d97d40ba"
   },
   "outputs": [
    {
     "name": "stdout",
     "output_type": "stream",
     "text": [
      "--2023-01-08 16:52:09--  https://raw.githubusercontent.com/attatrol/data_sources/master/onegin.txt\n",
      "Resolving raw.githubusercontent.com (raw.githubusercontent.com)... 185.199.108.133, 185.199.110.133, 185.199.109.133, ...\n",
      "Connecting to raw.githubusercontent.com (raw.githubusercontent.com)|185.199.108.133|:443... connected.\n",
      "HTTP request sent, awaiting response... 200 OK\n",
      "Length: 262521 (256K) [text/plain]\n",
      "Saving to: 'onegin.txt.17'\n",
      "\n",
      "onegin.txt.17       100%[===================>] 256.37K  --.-KB/s    in 0.08s   \n",
      "\n",
      "2023-01-08 16:52:10 (3.19 MB/s) - 'onegin.txt.17' saved [262521/262521]\n",
      "\n"
     ]
    }
   ],
   "source": [
    "!wget https://raw.githubusercontent.com/attatrol/data_sources/master/onegin.txt\n",
    "    \n",
    "with open('onegin.txt', 'r') as iofile:\n",
    "    text = iofile.readlines()\n",
    "    \n",
    "text = [x.replace('\\t\\t', '') for x in text]"
   ]
  },
  {
   "cell_type": "markdown",
   "metadata": {
    "id": "GCsg7QFigImM"
   },
   "source": [
    "In opposite to the in-class practice, this time we want to predict complex text. Let's reduce the complexity of the task and lowercase all the symbols.\n",
    "\n",
    "Now variable `text` is a list of strings. Join all the strings into one and lowercase it."
   ]
  },
  {
   "cell_type": "markdown",
   "metadata": {
    "id": "uo_9V_lBgImM"
   },
   "source": [
    "Put all the characters, that you've seen in the text, into variable `tokens`."
   ]
  },
  {
   "cell_type": "code",
   "execution_count": 4,
   "metadata": {
    "id": "rrtVLhHFgImM"
   },
   "outputs": [],
   "source": [
    "tokens = sorted(set(text))"
   ]
  },
  {
   "cell_type": "markdown",
   "metadata": {
    "id": "huMTGw7HgImN"
   },
   "source": [
    "Create dictionary `token_to_idx = {<char>: <index>}` and dictionary `idx_to_token = {<index>: <char>}`"
   ]
  },
  {
   "cell_type": "code",
   "execution_count": 5,
   "metadata": {
    "id": "drdO47V_gImN"
   },
   "outputs": [],
   "source": [
    "# dict <index>:<char>\n",
    "# Your great code here\n",
    "token_to_id = dict(zip(tokens, range(len(tokens))))\n",
    "\n",
    "# dict <char>:<index>\n",
    "# Your great code here\n",
    "id_to_token = dict(zip(token_to_id.values(), token_to_id.keys()))"
   ]
  },
  {
   "cell_type": "markdown",
   "metadata": {
    "id": "JoN8a8LZgImN"
   },
   "source": [
    "*Comment: in this task we have only 38 different tokens, so let's use one-hot encoding.*"
   ]
  },
  {
   "cell_type": "markdown",
   "metadata": {
    "id": "0WjO9nu3gImN"
   },
   "source": [
    "### Building the model"
   ]
  },
  {
   "cell_type": "markdown",
   "metadata": {
    "id": "NhutnCRzgImN"
   },
   "source": [
    "Now we want to build and train recurrent neural net which would be able to something similar to Shakespeare's poetry.\n",
    "\n",
    "Let's use vanilla RNN, similar to the one created during the lesson."
   ]
  },
  {
   "cell_type": "code",
   "execution_count": 6,
   "metadata": {
    "id": "JZ2rbCNFgImO"
   },
   "outputs": [],
   "source": [
    "class CharRNNCell(nn.Module):\n",
    "    \"\"\"\n",
    "    Implement the scheme above as torch module\n",
    "    \"\"\"\n",
    "    def __init__(self, num_tokens=len(tokens), embedding_size=16, rnn_num_units=64):\n",
    "        super(self.__class__,self).__init__()\n",
    "        self.num_units = rnn_num_units\n",
    "        \n",
    "        self.embedding = nn.Embedding(num_tokens, embedding_size)\n",
    "        self.rnn_update = nn.Linear(embedding_size + rnn_num_units, rnn_num_units)\n",
    "        self.rnn_to_logits = nn.Linear(rnn_num_units, num_tokens)\n",
    "        \n",
    "    def forward(self, x, h_prev):\n",
    "        \"\"\"\n",
    "        This method computes h_next(x, h_prev) and log P(x_next | h_next)\n",
    "        We'll call it repeatedly to produce the whole sequence.\n",
    "        \n",
    "        :param x: batch of character ids, containing vector of int64\n",
    "        :param h_prev: previous rnn hidden states, containing matrix [batch, rnn_num_units] of float32\n",
    "        \"\"\"\n",
    "        # get vector embedding of x\n",
    "        # batch, seq leng, emb dim\n",
    "        x_emb = self.embedding(x)\n",
    "        \n",
    "        # compute next hidden state using self.rnn_update\n",
    "        # hint: use torch.cat(..., dim=...) for concatenation\n",
    "        x_and_h = torch.cat([x_emb, h_prev], dim=-1) # YOUR CODE HERE\n",
    "        h_next = self.rnn_update(x_and_h) # YOUR CODE HERE\n",
    "        \n",
    "        h_next = torch.tanh(h_next) # YOUR CODE HERE\n",
    "        \n",
    "        assert h_next.size() == h_prev.size()\n",
    "        \n",
    "        #compute logits for next character probs\n",
    "        logits = self.rnn_to_logits(h_next) # YOUR CODE\n",
    "        \n",
    "        return h_next, logits\n",
    "    \n",
    "    def initial_state(self, batch_size):\n",
    "        \"\"\" return rnn state before it processes first input (aka h0) \"\"\"\n",
    "        return torch.zeros(batch_size, self.num_units, requires_grad=True)"
   ]
  },
  {
   "cell_type": "code",
   "execution_count": 7,
   "metadata": {
    "id": "9-onDGSfLo0X"
   },
   "outputs": [],
   "source": [
    "char_rnn = CharRNNCell()\n",
    "criterion = nn.NLLLoss() # YOUR CODE HERE` "
   ]
  },
  {
   "cell_type": "markdown",
   "metadata": {
    "id": "WoCnVozagImO"
   },
   "source": [
    "Plot the loss function (axis X: number of epochs, axis Y: loss function)."
   ]
  },
  {
   "cell_type": "code",
   "execution_count": 8,
   "metadata": {
    "id": "WwJmEGuFgImO"
   },
   "outputs": [],
   "source": [
    "def rnn_loop(char_rnn, batch_ix):\n",
    "    \"\"\"\n",
    "    Computes log P(next_character) for all time-steps in names_ix\n",
    "    :param names_ix: an int32 matrix of shape [batch, time], output of to_matrix(names)\n",
    "    \"\"\"\n",
    "    batch_size, max_length = batch_ix.size()\n",
    "    hid_state = char_rnn.initial_state(batch_size)\n",
    "    logprobs = []\n",
    "\n",
    "    for x_t in batch_ix.transpose(0,1):\n",
    "        hid_state, logits = char_rnn(x_t, hid_state)  # <-- here we call your one-step code\n",
    "        logprobs.append(F.log_softmax(logits, -1))\n",
    "        \n",
    "    return torch.stack(logprobs, dim=1)"
   ]
  },
  {
   "cell_type": "code",
   "execution_count": 9,
   "metadata": {
    "id": "1Z0S_B63L0Sc"
   },
   "outputs": [],
   "source": [
    "def to_matrix(names, max_len=None, pad=token_to_id[' '], dtype='int32', batch_first=True):\n",
    "    \"\"\"Casts a list of names into rnn-digestable matrix\"\"\"\n",
    "    \n",
    "    max_len = max_len or max(map(len, names))\n",
    "    names_ix = np.zeros([len(names), max_len], dtype) + pad\n",
    "\n",
    "    for i in range(len(names)):\n",
    "        line_ix = [token_to_id[c.lower()] for c in names[i]]\n",
    "        names_ix[i, :len(line_ix)] = line_ix\n",
    "        \n",
    "    if not batch_first: # convert [batch, time] into [time, batch]\n",
    "        names_ix = np.transpose(names_ix)\n",
    "\n",
    "    return names_ix"
   ]
  },
  {
   "cell_type": "code",
   "execution_count": 10,
   "metadata": {
    "id": "pJekrt5vLwyC"
   },
   "outputs": [],
   "source": [
    "batch_ix = to_matrix(text[:5])\n",
    "batch_ix = torch.tensor(batch_ix, dtype=torch.int64)\n",
    "\n",
    "logp_seq = rnn_loop(char_rnn, batch_ix)\n",
    "\n",
    "assert torch.max(logp_seq).data.numpy() <= 0\n",
    "assert tuple(logp_seq.size()) ==  batch_ix.shape + (len(tokens),)"
   ]
  },
  {
   "cell_type": "code",
   "execution_count": 11,
   "metadata": {
    "id": "WkUEWDF0MUeM"
   },
   "outputs": [],
   "source": [
    "from IPython.display import clear_output\n",
    "from random import sample\n",
    "\n",
    "char_rnn = CharRNNCell()\n",
    "criterion = nn.NLLLoss()\n",
    "opt = torch.optim.Adam(char_rnn.parameters())\n",
    "history = []"
   ]
  },
  {
   "cell_type": "code",
   "execution_count": 12,
   "metadata": {
    "colab": {
     "base_uri": "https://localhost:8080/",
     "height": 265
    },
    "id": "UCJyh-UTMX7C",
    "outputId": "387ce348-7da7-43a6-e96a-3d3d943dee07"
   },
   "outputs": [
    {
     "data": {
      "image/png": "[encoded data removed]",
      "text/plain": [
       "<Figure size 640x480 with 1 Axes>"
      ]
     },
     "metadata": {},
     "output_type": "display_data"
    }
   ],
   "source": [
    "MAX_LENGTH = 100\n",
    "\n",
    "for i in range(10000):\n",
    "    opt.zero_grad()\n",
    "    \n",
    "    batch_ix = to_matrix(sample(lines, 32), max_len=MAX_LENGTH)\n",
    "    batch_ix = torch.tensor(batch_ix, dtype=torch.int64)\n",
    "    \n",
    "    logp_seq = rnn_loop(char_rnn, batch_ix)\n",
    "    \n",
    "    # compute loss\n",
    "    predictions_logp = logp_seq[:, :-1] # YOUR CODE HERE\n",
    "    actual_next_tokens = batch_ix[:, 1:] # YOUR CODE HERE\n",
    "    \n",
    "#    print(predictions_logp.shape, actual_next_tokens.shape)\n",
    "    loss = criterion(\n",
    "        predictions_logp.contiguous().view(-1, len(tokens)),\n",
    "        actual_next_tokens.contiguous().view(-1)\n",
    "    ) \n",
    "    # YOUR CODE HERE\n",
    "    \n",
    "    # train with backprop\n",
    "    loss.backward()\n",
    "    opt.step()\n",
    "    \n",
    "    # YOUR CODE HERE\n",
    "    \n",
    "    history.append(loss.data.numpy())\n",
    "    if (i+1)%100==0:\n",
    "        clear_output(True)\n",
    "        plt.plot(history,label='loss')\n",
    "        plt.legend()\n",
    "        plt.show()\n",
    "\n",
    "assert np.mean(history[:10]) > np.mean(history[-10:]), \"RNN didn't converge.\""
   ]
  },
  {
   "cell_type": "code",
   "execution_count": 15,
   "metadata": {
    "id": "BkX8m7-BgImO"
   },
   "outputs": [],
   "source": [
    "def generate_sample(char_rnn, seed_phrase='in a while', max_length=500, temperature=0.5):\n",
    "    '''\n",
    "    ### Disclaimer: this is an example function for text generation.\n",
    "    ### You can either adapt it in your code or create your own function\n",
    "    \n",
    "    The function generates text given a phrase of length at least SEQ_LENGTH.\n",
    "    :param seed_phrase: prefix characters. The RNN is asked to continue the phrase\n",
    "    :param max_length: maximum output length, including seed_phrase\n",
    "    :param temperature: coefficient for sampling.  higher temperature produces more chaotic outputs, \n",
    "        smaller temperature converges to the single most likely output.\n",
    "        \n",
    "    Be careful with the model output. This model waits logits (not probabilities/log-probabilities)\n",
    "    of the next symbol.\n",
    "    '''\n",
    "    \n",
    "    x_sequence = [token_to_id[token] for token in seed_phrase]\n",
    "    x_sequence = torch.tensor([x_sequence], dtype=torch.int64)\n",
    "    hid_state = char_rnn.initial_state(batch_size=1)\n",
    "    \n",
    "    #feed the seed phrase, if any\n",
    "    for i in range(len(seed_phrase) - 1):\n",
    "        #print(x_sequence[:, -1].shape, hid_state.shape)\n",
    "        hid_state, out = char_rnn(x_sequence[:, i], hid_state)\n",
    "    \n",
    "    #start generating\n",
    "    for _ in range(max_length - len(seed_phrase)):\n",
    "        #print(x_sequence.shape, x_sequence, hid_state.shape)\n",
    "        hid_state, out = char_rnn(x_sequence[:, -1], hid_state)\n",
    "        # Be really careful here with the model output\n",
    "        p_next = F.softmax(out / temperature, dim=-1).data.numpy()[0]\n",
    "        \n",
    "        # sample next token and push it back into x_sequence\n",
    "        #print(p_next.shape, len(tokens))\n",
    "        next_ix = np.random.choice(len(tokens), p=p_next)\n",
    "        next_ix = torch.tensor([[next_ix]], dtype=torch.int64)\n",
    "        #print(x_sequence.shape, next_ix.shape)\n",
    "        x_sequence = torch.cat([x_sequence, next_ix], dim=1)\n",
    "        \n",
    "    return ''.join([tokens[ix] for ix in x_sequence.data.numpy()[0]])"
   ]
  },
  {
   "cell_type": "code",
   "execution_count": 25,
   "metadata": {
    "colab": {
     "base_uri": "https://localhost:8080/",
     "height": 103
    },
    "id": "iSY35wnQgImP",
    "outputId": "7330e0ed-46c3-42b7-8274-a3906ebcb7da"
   },
   "outputs": [
    {
     "name": "stdout",
     "output_type": "stream",
     "text": [
      "====================\n",
      "\n",
      "Temperature = 0.1\n",
      "hello darkness my love the still the strange the seeming the strange the strange the strange the story should the seem the strange the seem the seeming the strange the strange the story the story should the sume i the strange the seem the stars the so shall the stars the store the seem\n",
      "                                                                                                                                                                                                                     \n",
      "====================\n",
      "\n",
      "Temperature = 0.2\n",
      "hello darkness my love in the story so still the strange the still the strange the love of the self the self the still the self the sweet the live in the strange of the stall the world the so stain the still the words the self the self that the strange thou art the still the strong the love the seeming the so seeming the store the self doth so shall the strange the love in thee in the self thou that the seeming the storness and the strange and the beauty my love the still the self the love in th\n",
      "====================\n",
      "\n",
      "Temperature = 0.5\n",
      "hello darkness my fair the tongue of thee of my love in me and am hath the love suble that thine storn with me a thount the think of my part be of heart the form and the sumblest doth their the living thou thou brand and the will with can stainst thou goss to heart,\n",
      "                                                                                                                                                                                                                                         \n",
      "====================\n",
      "\n",
      "Temperature = 1\n",
      "hello darkness my mure immer of love to i creath thy host to pass, and holls comes fills trubse what thin, for love where prair impabry\n",
      "                                                                                                                                                                                                                                                                                                                                                                            \n",
      "====================\n",
      "\n",
      "Temperature = 2\n",
      "hello darkness my erilfw'd,--art use udels qrle,\n",
      "                           y  andless.\n",
      "                                                                                         y semfottues ghy\n",
      "                                                                                                                              the ',athsumblouse?\n",
      "                                              -                                                                                               t i vely! (ivly,\n",
      " \n"
     ]
    }
   ],
   "source": [
    "for temp in [0.1, 0.2, 0.5, 1, 2]:\n",
    "    print('====================\\n')\n",
    "    print(f'Temperature = {temp}')\n",
    "    print(generate_sample(char_rnn, seed_phrase='hello darkness my', temperature=temp))"
   ]
  },
  {
   "cell_type": "markdown",
   "metadata": {
    "id": "A4cPmUWNgImP"
   },
   "source": [
    "### More poetic model\n",
    "\n",
    "Let's use LSTM instead of vanilla RNN and compare the results."
   ]
  },
  {
   "cell_type": "markdown",
   "metadata": {
    "id": "oGp5yVT5gImQ"
   },
   "source": [
    "Plot the loss function of the number of epochs. Does the final loss become better?"
   ]
  },
  {
   "cell_type": "code",
   "execution_count": 26,
   "metadata": {
    "id": "TyZf_P6l2Cta"
   },
   "outputs": [],
   "source": [
    "import torch\n",
    "from torch import nn\n",
    "\n",
    "class Model(nn.Module):\n",
    "    def __init__(self):\n",
    "        super(Model, self).__init__()\n",
    "        self.lstm_size = 64\n",
    "        self.embedding_dim = 64\n",
    "        self.num_layers = 3\n",
    "\n",
    "        n_vocab = len(tokens)\n",
    "        self.embedding = nn.Embedding(\n",
    "            num_embeddings=n_vocab,\n",
    "            embedding_dim=self.embedding_dim,\n",
    "        )\n",
    "        self.lstm = nn.LSTM(\n",
    "            input_size=self.lstm_size,\n",
    "            hidden_size=self.lstm_size,\n",
    "            num_layers=self.num_layers,\n",
    "            dropout=0.2,\n",
    "        )\n",
    "        self.fc = nn.Linear(self.lstm_size, n_vocab)\n",
    "\n",
    "    def forward(self, x, prev_state):\n",
    "        embed = self.embedding(x)\n",
    "        output, state = self.lstm(embed, prev_state)\n",
    "        logits = self.fc(output)\n",
    "        return logits, state\n",
    "\n",
    "    def init_state(self, sequence_length):\n",
    "        return (torch.zeros(self.num_layers, sequence_length, self.lstm_size),\n",
    "                torch.zeros(self.num_layers, sequence_length, self.lstm_size))\n",
    "\n",
    "class Dataset(torch.utils.data.Dataset):\n",
    "    def __init__(\n",
    "        self,\n",
    "    ):\n",
    "        self.tokens = [char for char in text]\n",
    "        self.uniq_tokens = tokens\n",
    "\n",
    "        self.index_to_token = id_to_token\n",
    "        self.token_to_index = token_to_id\n",
    "\n",
    "        self.tokens_indexes = [self.token_to_index[w] for w in self.tokens]\n",
    "\n",
    "    def __len__(self):\n",
    "        return len(self.tokens_indexes) - SEQUENCE_LENGTH\n",
    "\n",
    "    def __getitem__(self, index):\n",
    "        return (\n",
    "            torch.tensor(self.tokens_indexes[index:index+SEQUENCE_LENGTH]),\n",
    "            torch.tensor(self.tokens_indexes[index+1:index+SEQUENCE_LENGTH+1]),\n",
    "        )\n",
    "\n",
    "\n",
    "def train(dataset, model):\n",
    "    model.train()\n",
    "\n",
    "    dataloader = DataLoader(dataset, batch_size=256)\n",
    "    criterion = nn.CrossEntropyLoss()\n",
    "    optimizer = optim.Adam(model.parameters(), lr=0.001)\n",
    "\n",
    "    for epoch in range(20):\n",
    "        state_h, state_c = model.init_state(SEQUENCE_LENGTH)\n",
    "\n",
    "        for batch, (x, y) in enumerate(dataloader):\n",
    "            optimizer.zero_grad()\n",
    "\n",
    "            y_pred, (state_h, state_c) = model(x, (state_h, state_c))\n",
    "            loss = criterion(y_pred.transpose(1, 2), y)\n",
    "\n",
    "            state_h = state_h.detach()\n",
    "            state_c = state_c.detach()\n",
    "\n",
    "            loss.backward()\n",
    "            optimizer.step()\n",
    "\n",
    "            history.append(loss.data.numpy())\n",
    "            if batch % 10 == 0:\n",
    "                clear_output(True)\n",
    "                plt.plot(history,label='loss')\n",
    "                plt.legend()\n",
    "                plt.show()\n",
    "          # print({ 'epoch': epoch, 'batch': batch, 'loss': loss.item() })\n",
    "\n",
    "\n",
    "def predict(dataset, model, text, temperature=1, next_chars=500):\n",
    "    model.eval()\n",
    "\n",
    "    words = [char for char in text]\n",
    "    state_h, state_c = model.init_state(len(words))\n",
    "\n",
    "    for i in range(0, next_chars):\n",
    "        x = torch.tensor([[dataset.token_to_index[w] for w in words[i:]]])\n",
    "        y_pred, (state_h, state_c) = model(x, (state_h, state_c))\n",
    "\n",
    "        last_word_logits = y_pred[0][-1]\n",
    "        p = torch.nn.functional.softmax(last_word_logits / temperature, dim=0).detach().numpy()\n",
    "        word_index = np.random.choice(len(last_word_logits), p=p)\n",
    "        words.append(dataset.index_to_token[word_index])\n",
    "\n",
    "    return \"\".join(words)"
   ]
  },
  {
   "cell_type": "code",
   "execution_count": 27,
   "metadata": {
    "id": "e8GosaW863Lb"
   },
   "outputs": [],
   "source": [
    "import torch\n",
    "import numpy as np\n",
    "from torch import nn, optim\n",
    "from torch.utils.data import DataLoader"
   ]
  },
  {
   "cell_type": "code",
   "execution_count": 28,
   "metadata": {
    "colab": {
     "base_uri": "https://localhost:8080/",
     "height": 265
    },
    "id": "4G7TXQL4xutm",
    "outputId": "102ae342-81e3-45f8-f723-88b1a9b5a519"
   },
   "outputs": [
    {
     "data": {
      "image/png": "[encoded data removed]",
      "text/plain": [
       "<Figure size 640x480 with 1 Axes>"
      ]
     },
     "metadata": {},
     "output_type": "display_data"
    }
   ],
   "source": [
    "SEQUENCE_LENGTH = 40\n",
    "myLSTM = Model()\n",
    "dataset = Dataset()\n",
    "history = []\n",
    "train(dataset, myLSTM)"
   ]
  },
  {
   "cell_type": "markdown",
   "metadata": {
    "id": "eeFvyfWSgImQ"
   },
   "source": [
    "Generate text using the trained net with different `temperature` parameter: `[0.1, 0.2, 0.5, 1.0, 2.0]`.\n",
    "\n",
    "Evaluate the results visually, try to interpret them."
   ]
  },
  {
   "cell_type": "code",
   "execution_count": 29,
   "metadata": {
    "colab": {
     "base_uri": "https://localhost:8080/"
    },
    "id": "NdLKVOBegImQ",
    "outputId": "8d1edc41-2c08-4892-d887-5485356177f5"
   },
   "outputs": [
    {
     "name": "stdout",
     "output_type": "stream",
     "text": [
      "====================\n",
      "\n",
      "Temperature = 0.1\n",
      "hello my name is the still,\n",
      "  and the stand the sour the stand the stand thee,\n",
      "  when the soul the strong the stand the strong,\n",
      "  the stand the self the strong the strange thee,\n",
      "  the should the soul the strong the stand the stand,\n",
      "  the self the stand the strong the strong thee thee,\n",
      "  the strong the stand the should the stand the still,\n",
      "  the self the strange the stand the stand the still,\n",
      "  the stand the self the stand the stand the stand,\n",
      "    and the strove the stall the stand the stand thee,\n",
      "  and the stra\n",
      "====================\n",
      "\n",
      "Temperature = 0.2\n",
      "hello my name ising me see,\n",
      "    and the self the self the love the the prove,\n",
      "  and the shall the prove thou art a fair thee,\n",
      "  and the self the the stand the stand the sweet,\n",
      "  that the soul thou have thy soul thy stand thee,\n",
      "  and the strange the prove the sour the see,\n",
      "  and thou art that the store the stall the stall,\n",
      "    then the world the love the love thy strength doth see,\n",
      "  and the strange the stand the stand the self thee,\n",
      "    and the sour thee the shall the the stand the wall,\n",
      "  and the world the sha\n",
      "====================\n",
      "\n",
      "Temperature = 0.5\n",
      "hello my name isreases thy love,\n",
      "  that to the self my since of thy thy profest,\n",
      "  and thy show i better my love, in their greast;\n",
      "    o! thou her the plove with thee the sine agant,\n",
      "  the sumber of so state with stars the wate,\n",
      "  then that she my so the pleash with be to grow,\n",
      "  thy love thou store i have you wising your,\n",
      "  when thou shall of thy part in thy sour stild,\n",
      "    that the part thy lead with the self the have still,\n",
      "  and of my from my love, and my should love stand,\n",
      "    so which more the love and sh\n",
      "====================\n",
      "\n",
      "Temperature = 1\n",
      "hello my name isiused thee monest,\n",
      "  though his spay suaders and with and time.\n",
      "\n",
      "  llix\n",
      "\n",
      "  agaads thy watlen you, better lemd,\n",
      "  or dithate be forect worl'd so her can sick,\n",
      "  for saxtury desun care! 'when cower stite duch you.\n",
      "  when yough the in must mest swears weed's may;\n",
      "  nor the nettur on those my ourest prents\n",
      "  if, not even blage in well it which seel.\n",
      "  if rescold you with howtering camy,\n",
      "  thy afpood, actury all find folt-ous of me.\n",
      "  more wolls of all for doth pay,\n",
      "  when taigh my prows my ibong, an\n",
      "====================\n",
      "\n",
      "Temperature = 2\n",
      "hello my name is,! efdest-when lib'digy.-\n",
      "  in neigiring fraiss that wherepmehe(dso\n",
      "! ,o illk:uerg pla wry i'-oboefy' keckil aaqy.\n",
      "f  ccacii\n",
      "i, to ifvince 'otour gitruacirys,\n",
      "  heaobe? his nrond'gonhfeyilcubu'ds: wlat ladmtnn\n",
      "  budlizles'h maysbring kgrew,; ofwobk: uceengsk ksoujw. sixis'dgnok;\n",
      "  than) of your worl-bes for od'st i llositumt';\n",
      "  wisic, prip but that fre'tunefw. nwite,\n",
      "    for wot,\n",
      "  youth, ekvripcy ill, kgindy, tendlesjyfy,\n",
      "  baal bespail?e pafasky n\n",
      "  moex lend-in. went nigkmow'st reviym'dt ave\n"
     ]
    }
   ],
   "source": [
    "for temp in [0.1, 0.2, 0.5, 1, 2]:\n",
    "    print('====================\\n')\n",
    "    print(f'Temperature = {temp}')\n",
    "    print(predict(dataset, myLSTM, 'hello my name is', temp))"
   ]
  },
  {
   "cell_type": "markdown",
   "metadata": {
    "id": "7JY71uRrgImQ"
   },
   "source": [
    "### Saving and loading models"
   ]
  },
  {
   "cell_type": "markdown",
   "metadata": {
    "id": "p4Br_zpvgImR"
   },
   "source": [
    "Save the model to the disk, then load it and generate text. Examples are available [here](https://pytorch.org/tutorials/beginner/saving_loading_models.html])."
   ]
  },
  {
   "cell_type": "code",
   "execution_count": 30,
   "metadata": {
    "colab": {
     "base_uri": "https://localhost:8080/"
    },
    "id": "8WBYE5TVgImR",
    "outputId": "a47e061b-8e84-4884-985a-773b60317b4e"
   },
   "outputs": [
    {
     "name": "stdout",
     "output_type": "stream",
     "text": [
      "sweet dreams are made of thiso thou should make,\n",
      "    thou wist thou thee the thou fair then betting powers.\n",
      "    o! doth my in the prows be thee fair slight?\n",
      "    the the should love thee the seever hit compare,\n",
      "    thou fair thee the is the world thou art may actime,\n",
      "    or they thou all thee i and me friend,\n",
      "    so the heaven that i the prove to be thee,\n",
      "  when thy love then the self thou art the strength,\n",
      "  and shall thou will which thy home with see thee;\n",
      "  that the love live this thy love that to my grows,\n",
      "  and my have \n"
     ]
    }
   ],
   "source": [
    "torch.save(myLSTM, 'model')\n",
    "model = torch.load('model')\n",
    "\n",
    "print(predict(dataset, model, 'sweet dreams are made of this', 0.5))"
   ]
  },
  {
   "cell_type": "markdown",
   "metadata": {
    "id": "yrwJRMHRgImR"
   },
   "source": [
    "### References\n",
    "1. <a href='http://karpathy.github.io/2015/05/21/rnn-effectiveness/'> Andrew Karpathy blog post about RNN. </a> \n",
    "There are several examples of genration: Shakespeare texts, Latex formulas, Linux Sourse Code and children names.\n",
    "2. <a href='https://github.com/karpathy/char-rnn'> Repo with char-rnn code </a>\n",
    "3. Cool repo with PyTorch examples: [link](https://github.com/spro/practical-pytorch`)"
   ]
  }
 ],
 "metadata": {
  "anaconda-cloud": {},
  "colab": {
   "collapsed_sections": [],
   "name": "Lab2_DL_part3_poetry.ipynb",
   "provenance": []
  },
  "kernelspec": {
   "display_name": "Python 3 (ipykernel)",
   "language": "python",
   "name": "python3"
  },
  "language_info": {
   "codemirror_mode": {
    "name": "ipython",
    "version": 3
   },
   "file_extension": ".py",
   "mimetype": "text/x-python",
   "name": "python",
   "nbconvert_exporter": "python",
   "pygments_lexer": "ipython3",
   "version": "3.9.13"
  }
 },
 "nbformat": 4,
 "nbformat_minor": 1
}
