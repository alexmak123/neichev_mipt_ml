{
 "cells": [
  {
   "cell_type": "markdown",
   "metadata": {},
   "source": [
    "*Credits: materials from this notebook belong to YSDA [Practical DL](https://github.com/yandexdataschool/Practical_DL) course. Special thanks for making them available online.*"
   ]
  },
  {
   "cell_type": "markdown",
   "metadata": {},
   "source": [
    "# Lab assignment №1, part 1\n",
    "\n",
    "This lab assignment consists of several parts. You are supposed to make some transformations, train some models, estimate the quality of the models and explain your results.\n",
    "\n",
    "Several comments:\n",
    "* Don't hesitate to ask questions, it's a good practice.\n",
    "* No private/public sharing, please. The copied assignments will be graded with 0 points.\n",
    "* Blocks of this lab will be graded separately."
   ]
  },
  {
   "cell_type": "markdown",
   "metadata": {},
   "source": [
    "## 1. Matrix differentiation"
   ]
  },
  {
   "cell_type": "markdown",
   "metadata": {},
   "source": [
    "Since it easy to google every task please please please try to undestand what's going on. The \"just answer\" thing will be not counted, make sure to present derivation of your solution. It is absolutely OK if you found an answer on web then just exercise in $\\LaTeX$ copying it into here."
   ]
  },
  {
   "cell_type": "markdown",
   "metadata": {},
   "source": [
    "Useful links: \n",
    "[1](http://www.machinelearning.ru/wiki/images/2/2a/Matrix-Gauss.pdf)\n",
    "[2](http://www.atmos.washington.edu/~dennis/MatrixCalculus.pdf)"
   ]
  },
  {
   "cell_type": "markdown",
   "metadata": {},
   "source": [
    "## ex. 1"
   ]
  },
  {
   "cell_type": "markdown",
   "metadata": {},
   "source": [
    "$$  \n",
    "y = x^Tx,  \\quad x \\in \\mathbb{R}^N \n",
    "$$"
   ]
  },
  {
   "cell_type": "markdown",
   "metadata": {},
   "source": [
    "$$\n",
    "\\frac{dy}{dx} = \\dfrac{d\\langle x, x\\rangle}{dx} = \\dfrac{2\\langle x, dx \\rangle}{dx} = 2x\n",
    "$$ "
   ]
  },
  {
   "cell_type": "code",
   "execution_count": null,
   "metadata": {
    "jupyter": {
     "outputs_hidden": true
    }
   },
   "outputs": [],
   "source": []
  },
  {
   "cell_type": "markdown",
   "metadata": {},
   "source": [
    "## ex. 2"
   ]
  },
  {
   "cell_type": "markdown",
   "metadata": {},
   "source": [
    "$$ y = tr(AB) \\quad A,B \\in \\mathbb{R}^{N \\times N} $$ "
   ]
  },
  {
   "cell_type": "markdown",
   "metadata": {},
   "source": [
    "$$\n",
    "\\frac{dy}{dA} = B,тк \\frac{d (tr(AB))}{da_{ij}} = b_{ij} \\quad  (use \\quad  matrix \\quad product \\quad formular)\n",
    "$$"
   ]
  },
  {
   "cell_type": "code",
   "execution_count": null,
   "metadata": {
    "jupyter": {
     "outputs_hidden": true
    }
   },
   "outputs": [],
   "source": []
  },
  {
   "cell_type": "markdown",
   "metadata": {},
   "source": [
    "## ex. 3"
   ]
  },
  {
   "cell_type": "markdown",
   "metadata": {},
   "source": [
    "$$  \n",
    "y = x^TAc , \\quad A\\in \\mathbb{R}^{N \\times N}, x\\in \\mathbb{R}^{N}, c\\in \\mathbb{R}^{N} \n",
    "$$"
   ]
  },
  {
   "cell_type": "markdown",
   "metadata": {},
   "source": [
    "$$\n",
    "\\frac{dy}{dx} = (c^TA^T), тк \\frac{d(x^TAc)}{dx_i} = \\frac{d(c^TA^Tx)}{dx_i} = \\frac{d}{dx_i}\\sum\\limits_{j = 1}^{N}x_j\\sum\\limits_{k = 1}^{N}a_{kj}c_{k} = (c^TA^T)_i \n",
    "$$"
   ]
  },
  {
   "cell_type": "markdown",
   "metadata": {},
   "source": [
    "$$\n",
    "\\frac{dy}{dA} = \\frac{d(x^TAc)}{dA} = \\frac{d(tr(cx^TA))}{dA} = \\frac{d(tr(BA))}{dA} = \\frac{d(tr(AB))}{dA} = B\n",
    "$$ "
   ]
  },
  {
   "cell_type": "markdown",
   "metadata": {},
   "source": [
    "Hint for the latter (one of the ways): use *ex. 2* result and the fact \n",
    "$$\n",
    "tr(ABC) = tr (CAB)\n",
    "$$"
   ]
  },
  {
   "cell_type": "code",
   "execution_count": null,
   "metadata": {
    "jupyter": {
     "outputs_hidden": true
    }
   },
   "outputs": [],
   "source": []
  },
  {
   "cell_type": "markdown",
   "metadata": {},
   "source": [
    "## ex. 4"
   ]
  },
  {
   "cell_type": "markdown",
   "metadata": {},
   "source": [
    "Classic matrix factorization example. Given matrix $X$ you need to find $A$, $S$ to approximate $X$. This can be done by simple gradient descent iteratively alternating $A$ and $S$ updates.\n",
    "$$\n",
    "J = || X - AS ||_F^2  , \\quad A\\in \\mathbb{R}^{N \\times R} , \\quad S\\in \\mathbb{R}^{R \\times M}\n",
    "$$\n",
    "$$\n",
    "\\frac{dJ}{dS} = ? \n",
    "$$\n",
    "\n",
    "You may use one of the following approaches:"
   ]
  },
  {
   "cell_type": "markdown",
   "metadata": {},
   "source": [
    "#### First approach\n",
    "Using ex.2 and the fact:\n",
    "$$\n",
    "|| X ||_F^2 = tr(XX^T) \n",
    "$$ \n",
    "it is easy to derive gradients (you can find it in one of the refs). "
   ]
  },
  {
   "cell_type": "markdown",
   "metadata": {},
   "source": [
    "#### Second approach\n",
    "You can use *slightly different techniques* if they suits you. Take a look at this derivation:\n",
    "<img src=\"grad.png\">\n",
    "(excerpt from [Handbook of blind source separation, Jutten, page 517](https://books.google.ru/books?id=PTbj03bYH6kC&printsec=frontcover&dq=Handbook+of+Blind+Source+Separation&hl=en&sa=X&ved=0ahUKEwi-q_apiJDLAhULvXIKHVXJDWcQ6AEIHDAA#v=onepage&q=Handbook%20of%20Blind%20Source%20Separation&f=false), open for better picture)."
   ]
  },
  {
   "cell_type": "markdown",
   "metadata": {},
   "source": [
    "#### Third approach\n",
    "And finally we can use chain rule! \n",
    "let $ F = AS $ \n",
    "\n",
    "**Find**\n",
    "and \n",
    "$$\n",
    "\\frac{dF}{dS} =  \n",
    "$$ \n",
    "(the shape should be $ NM \\times RM )$.\n",
    "\n",
    "Now it is easy do get desired gradients:\n",
    "\n",
    "$$ \n",
    "we \\quad will \\quad use \\quad the \\quad fact \\quad that : \\quad\n",
    "|| Y ||_F^2 = tr(YY^T) \\quad Where \\quad Y = X - AS \n",
    "$$ \n",
    "$$\n",
    "\\frac{dJ}{dS} = \\frac{dYY^T}{dY}\\frac{dY}{dS}  \\quad where \\quad Y = X - AS\n",
    "$$\n",
    "$$\n",
    "\\frac{dYY^T}{dY} = 2Y, тк \\frac{dYY^T}{dy_{ij}} = 2y_{ij} \\quad  (use \\quad  matrix \\quad product \\quad formular)\n",
    "$$\n",
    "$$\n",
    "\\frac{dY}{dS} = \\frac{d(X - AS)}{dS} = -A^T\n",
    "$$\n",
    "$$\n",
    "In \\quad result \\quad we \\quad have \\quad : \\quad \n",
    "\\frac{dJ}{dF} =  -2A^T(X - AS)\n",
    "$$ "
   ]
  },
  {
   "cell_type": "markdown",
   "metadata": {
    "collapsed": true,
    "jupyter": {
     "outputs_hidden": true
    }
   },
   "source": [
    "## 2. kNN questions\n",
    "Here come the questions from the assignment0_01. Please, refer to the assignment0_01 to get the context of the questions."
   ]
  },
  {
   "cell_type": "markdown",
   "metadata": {},
   "source": [
    "### Question 1\n",
    "\n",
    "Notice the structured patterns in the distance matrix, where some rows or columns are visible brighter. (Note that with the default color scheme black indicates low distances while white indicates high distances.)\n",
    "\n",
    "- What in the data is the cause behind the distinctly bright rows?\n",
    "- What causes the columns?\n",
    "\n",
    "*Your Answer:*\n",
    "1) В рядах находятся расстояния от тестового обьекта до обьектов трейна, поэтому если строка сильно белая - это означает, что наш тестовый обьект находится на большом расстоянии от всех обьектов трейна, следовательно такой обьект будет представлять собой новый класс, так как он не попадает ни в какой другой  \n",
    "2) В столбцах находятся расстояния от обьекта трейна до всех тестовых, поэтому если строка сильно белая - это означает, что данный обьект трейна однозначно определяет положение тестовых и не сильно полезен(однозначно классифицирует), поэтому можно его учитывать в последнюю очередь или не учитывать вообще\n"
   ]
  },
  {
   "cell_type": "markdown",
   "metadata": {},
   "source": [
    "### Question 2\n",
    "\n",
    "We can also use other distance metrics such as L1 distance.\n",
    "For pixel values $p_{ij}^{(k)}$ at location $(i,j)$ of some image $I_k$, \n",
    "\n",
    "the mean $\\mu$ across all pixels over all images is $$\\mu=\\frac{1}{nhw}\\sum_{k=1}^n\\sum_{i=1}^{h}\\sum_{j=1}^{w}p_{ij}^{(k)}$$\n",
    "And the pixel-wise mean $\\mu_{ij}$ across all images is \n",
    "$$\\mu_{ij}=\\frac{1}{n}\\sum_{k=1}^np_{ij}^{(k)}.$$\n",
    "The general standard deviation $\\sigma$ and pixel-wise standard deviation $\\sigma_{ij}$ is defined similarly.\n",
    "\n",
    "Which of the following preprocessing steps will not change the performance of a Nearest Neighbor classifier that uses L1 distance? Select all that apply.\n",
    "1. Subtracting the mean $\\mu$ ($\\tilde{p}_{ij}^{(k)}=p_{ij}^{(k)}-\\mu$.)\n",
    "2. Subtracting the per pixel mean $\\mu_{ij}$  ($\\tilde{p}_{ij}^{(k)}=p_{ij}^{(k)}-\\mu_{ij}$.)\n",
    "3. Subtracting the mean $\\mu$ and dividing by the standard deviation $\\sigma$.\n",
    "4. Subtracting the pixel-wise mean $\\mu_{ij}$ and dividing by the pixel-wise standard deviation $\\sigma_{ij}$.\n",
    "5. Rotating the coordinate axes of the data.\n",
    "\n",
    "*Your Answer:* 1, 2, 3, 4\n",
    "\n",
    "\n",
    "*Your Explanation:*\n",
    "\n",
    "1. $\\rho(\\tilde{p}^{(k)}, \\tilde{p}^{(m)}) = \\sum\\limits^{h,\\omega}_{i, j = 1}|\\tilde{p}_{ij}^{(k)} - \\tilde{p}_{ij}^{(m)}| = \\sum\\limits^{h,\\omega}_{i, j = 1}|p_{ij}^{(k)} - \\mu - p_{ij}^{(m)} + \\mu| = \\sum\\limits^{h,\\omega}_{i, j = 1}|p_{ij}^{(k)} - p_{ij}^{(m)}| = \\rho(p^{(k)}, p^{(m)})$\n",
    "\n",
    "Видим, что расстояние сохраняется, и, соответственно, классификатор никак не изменится.\n",
    "\n",
    "2. Тут ровно то же самое, что и в прошлом пункте, за исключением того, что на $\\mu$ надо навесить индексы. Абсолютно также все сократится и расстояния не изменятся.\n",
    "\n",
    "3. $||\\tilde{x} - \\tilde{y}||_1 = ||\\frac{x - \\mu}{\\sigma} - \\frac{y - \\mu}{\\sigma}||_1 = \\frac{1}{\\sigma}||x - y||_1$\n",
    "\n",
    "Такое преобразование меняет расстояния в $\\frac{1}{\\sigma}$ раз. Так как $\\sigma > 0$, то отношение порядка между расстояниями не изменится, и мы выберем те же самые k ближайших соседей в обоих случаях, а значит на классификатор оно не повлияет.\n",
    "\n",
    "4. Рассмотрим только деление, так как с вычитанием среднего понятно. Такое преобразование можно представить в виде:\n",
    "\n",
    "$\\tilde{p}^{(k)} = \\Sigma p^{(k)}$, где $p^{(k)}$ - вектор картинки, $\\Sigma$ - диагольная матрица, у которой в $ij$-м элементе стоит $\\frac{1}{\\sigma_{ij}}$ (размерность пространства $\\dim = ij$).\n",
    "\n",
    "Рассмотрим вектора $x, y, z$, связанные соотношением: $||x - y||_1 < ||y - z||\n",
    "_1$ и вектора $\\tilde{x}, \\tilde{y}, \\tilde{z}$\n",
    "\n",
    "Заметим, что $\\sigma_{ij}\\neq 0$ для всех $i, j$. Значит $\\Sigma$, как диагональная с ненулевыми элементами, имеет обратную, причем $\\Sigma^{-1}\\tilde{x} = x$. Также используем, что $||Ax|| \\leq ||A||_1\\cdot ||x||_1$.\n",
    "\n",
    "Тогда $||\\tilde{x} - \\tilde{y}||_1 = ||\\Sigma(x - y)||_1 \\leq ||\\Sigma||_1\\cdot||x - y||_1 < ||\\Sigma||_1\\cdot||y - z||_1 = ||\\Sigma||_1||\\Sigma^{-1}(\\tilde{y} - \\tilde{z})||_1 \\leq ||\\Sigma||_1\\cdot ||\\Sigma^{-1}||_1\\cdot ||\\tilde{y} - \\tilde{z}||_1 = ||\\tilde{y} - \\tilde{z}||_1$\n",
    "\n",
    "Видим, что отношения между расстояниями сохраняются, следовательно, на классфикатор такое преобразование не повлияет.\n",
    "\n",
    "5. Покажем, что расстояние $L1$ не сохраняется при повороте. Пусть $x = (1, 0)^T$, $y = (0, 1)^T$, $z = (2, 1)^T$. Повернем оси на $\\pi/4$. Матрица такого преобразования:\n",
    "\n",
    "$ A = \\begin{pmatrix}\n",
    "\\frac{\\sqrt{2}}{2} & -\\frac{\\sqrt{2}}{2} \\\\\n",
    "\\frac{\\sqrt{2}}{2} & \\frac{\\sqrt{2}}{2} \\\\\n",
    "\\end{pmatrix}\n",
    "$\n",
    "\n",
    "Преобразованные вектора будут иметь вид:\n",
    "\n",
    "$\\tilde{x} = (-\\frac{\\sqrt{2}}{2}, \\frac{\\sqrt{2}}{2})^T$\n",
    "\n",
    "$\\tilde{y} = (\\frac{\\sqrt{2}}{2}, \\frac{\\sqrt{2}}{2})^T$\n",
    "\n",
    "$\\tilde{z} = (\\frac{3\\sqrt{2}}{2}, \\frac{\\sqrt{2}}{2})^T$\n",
    "\n",
    "Посчитаем расстояния до и после:\n",
    "\n",
    "$||x - y||_1 = 2$\n",
    "\n",
    "$||x - z||_1 = 2$\n",
    "\n",
    "$||\\tilde{x} - \\tilde{y}||_1 = \\sqrt{2}$\n",
    "\n",
    "$||\\tilde{x} - \\tilde{z}||_1 = \\frac{5}{2}\\sqrt{2}$\n",
    "\n",
    "Видим, что отношение порядка между расстояниями изменилось, значит изменится и результат классификации."
   ]
  },
  {
   "cell_type": "markdown",
   "metadata": {},
   "source": [
    "## Question 3\n",
    "\n",
    "Which of the following statements about $k$-Nearest Neighbor ($k$-NN) are true in a classification setting, and for all $k$? Select all that apply.\n",
    "1. The decision boundary (hyperplane between classes in feature space) of the k-NN classifier is linear.\n",
    "2. The training error of a 1-NN will always be lower than that of 5-NN.\n",
    "3. The test error of a 1-NN will always be lower than that of a 5-NN.\n",
    "4. The time needed to classify a test example with the k-NN classifier grows with the size of the training set.\n",
    "5. None of the above.\n",
    "\n",
    "*Your Answer:*\n",
    "2,4\n",
    "\n",
    "*Your Explanation:*\n",
    "\n",
    "2) для 1-NN классификатора у нас нулевая ошибка на тренировочном датасете, но на тестовом ошибка будет очень сильной, тк происходит очень сильное переобучение, тк по сути мы просто попадаем в точки traina когда обучаем. 5-NN это уже намного более адекватная модель и уже как-то адекватно классифицирует\n",
    "\n",
    "4) чем больше размер трэйнинг сета, тем больше расстояний нам надо считать, следовательно время увеличивается\n",
    "\n"
   ]
  }
 ],
 "metadata": {
  "kernelspec": {
   "display_name": "Python 3 (ipykernel)",
   "language": "python",
   "name": "python3"
  },
  "language_info": {
   "codemirror_mode": {
    "name": "ipython",
    "version": 3
   },
   "file_extension": ".py",
   "mimetype": "text/x-python",
   "name": "python",
   "nbconvert_exporter": "python",
   "pygments_lexer": "ipython3",
   "version": "3.9.13"
  }
 },
 "nbformat": 4,
 "nbformat_minor": 4
}
